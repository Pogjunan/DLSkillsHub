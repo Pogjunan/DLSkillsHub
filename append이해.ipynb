{
 "cells": [
  {
   "cell_type": "markdown",
   "id": "cbb94a24-536f-4104-b3f8-07fc73aaafe1",
   "metadata": {},
   "source": [
    "# append 의 이해"
   ]
  },
  {
   "cell_type": "code",
   "execution_count": 14,
   "id": "c22eb98b-dae7-4982-be08-c138d4a9a4ee",
   "metadata": {},
   "outputs": [
    {
     "name": "stdout",
     "output_type": "stream",
     "text": [
      "{'index': 0, 'start_time': '2024-12-03 12:00', 'end_time': '2024-12-03 12:30'}\n",
      "{'index': 1, 'start_time': '2024-12-03 12:05', 'end_time': '2024-12-03 12:35'}\n",
      "{'index': 2, 'start_time': '2024-12-03 12:10', 'end_time': '2024-12-03 12:40'}\n",
      "{'index': 3, 'start_time': '2024-12-03 12:15', 'end_time': '2024-12-03 12:45'}\n"
     ]
    }
   ],
   "source": [
    "# 예제 데이터\n",
    "self = type('Example', (object,), {})()  # self를 흉내내는 객체 생성\n",
    "self.image_files = [f'image_{i}.png' for i in range(10)]  # 20개의 이미지 파일 리스트\n",
    "\n",
    "# 시간 데이터\n",
    "times = ['2024-12-03 12:00', '2024-12-03 12:05', '2024-12-03 12:10', '2024-12-03 12:15',\n",
    "         '2024-12-03 12:20', '2024-12-03 12:25', '2024-12-03 12:30', '2024-12-03 12:35',\n",
    "         '2024-12-03 12:40', '2024-12-03 12:45', '2024-12-03 12:50', '2024-12-03 12:55',\n",
    "         '2024-12-03 13:00', '2024-12-03 13:05']\n",
    "\n",
    "# 유효 시퀀스 저장 리스트\n",
    "valid_sequences = []\n",
    "\n",
    "# 유효 시퀀스 생성\n",
    "for i in range(len(self.image_files) -6):\n",
    "    valid_sequences.append({\n",
    "        'index': i,\n",
    "        'start_time': times[i],\n",
    "        'end_time': times[i + 6]\n",
    "    })\n",
    "valid_sequences\n",
    "# 결과 출력\n",
    "for seq in valid_sequences:\n",
    "    print(seq)\n"
   ]
  },
  {
   "cell_type": "code",
   "execution_count": null,
   "id": "8cbf1f73-2ce0-4629-b68c-043803ac0014",
   "metadata": {},
   "outputs": [],
   "source": []
  },
  {
   "cell_type": "code",
   "execution_count": null,
   "id": "27a71eb3-3999-45a9-b37d-c526e1ea922e",
   "metadata": {},
   "outputs": [],
   "source": []
  }
 ],
 "metadata": {
  "kernelspec": {
   "display_name": "Python 3 (ipykernel)",
   "language": "python",
   "name": "python3"
  },
  "language_info": {
   "codemirror_mode": {
    "name": "ipython",
    "version": 3
   },
   "file_extension": ".py",
   "mimetype": "text/x-python",
   "name": "python",
   "nbconvert_exporter": "python",
   "pygments_lexer": "ipython3",
   "version": "3.11.8"
  }
 },
 "nbformat": 4,
 "nbformat_minor": 5
}
